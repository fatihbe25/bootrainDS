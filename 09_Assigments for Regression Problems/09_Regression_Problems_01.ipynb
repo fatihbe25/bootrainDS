{
 "cells": [
  {
   "cell_type": "markdown",
   "metadata": {},
   "source": [
    "# Assignment\n"
   ]
  },
  {
   "cell_type": "markdown",
   "metadata": {},
   "source": [
    "1. Let's assume that you have World Bank data on financial, economic and social indicators for several countries. You want to measure the factors that affect the level of development in these countries. To this end, you decide to use per capita income as a proxy for the development level, which is defined as the national income divided by the population. You want to use some features in your dataset to predict per capita income. Is this task a classification or a regression task? Why? "
   ]
  },
  {
   "cell_type": "markdown",
   "metadata": {},
   "source": [
    "This task is a regression problem because the target variable is a continuos (infinite value) variable. \n",
    "We use classification if our target variable is a categorical variable (like yes/no , true/false ,  good/bad/normal )."
   ]
  },
  {
   "cell_type": "markdown",
   "metadata": {},
   "source": [
    "2. Which of the following arguments are false and why?\n",
    "    - OLS is a special type of linear regression models. \n",
    "    - Regression models become useless if they don’t meet the assumptions of linear regression. \n",
    "    - Estimation and prediction are the same thing in the context of linear regression models.\n",
    "    - Linear regression model is only one kind of regression models. Regression problems can also be solved with other kind of models like Support Vector Machines or Random Forests."
   ]
  },
  {
   "cell_type": "markdown",
   "metadata": {},
   "source": [
    "*  FALSE.  OLS is a method to produce linear regression model and solve linear regression problems.\n",
    "*  FALSE.  Linear regression can be used in some cases even when model doesn’t meet those assumptions.\n",
    "*  FALSE.  In linear regression context estimation is finding the optimum coefficients to create a model, but prediction is to find output   \n",
    "           from the previously not observed observations.\n",
    "*  TRUE  "
   ]
  },
  {
   "cell_type": "markdown",
   "metadata": {},
   "source": [
    "3. Assume that your project manager wants you to discover which free services your company offers make your customers buy more of your paid services. Formulate this task as a regression problem and write down the potential outcome and features that you’d like to work on."
   ]
  },
  {
   "cell_type": "code",
   "execution_count": null,
   "metadata": {},
   "outputs": [],
   "source": [
    "customerId, FreeService1,FreeService2,FreeService3,PaidService1, PaidService2,PaidService3\n",
    "1              Yes           No             Yes        Yes           Yes           No \n",
    "2              Yes           No             Yes        Yes           Yes           No \n",
    "3              No            Yes            No         No            No           Yes \n",
    "4              Yes           No             No         No            Yes           No\n",
    "\n",
    "dataset may be seen like above. We can  use get_dumies to convert Yes/No fields to numerical variables 0/1 \n",
    "We may create a column for total paid services used by user.   \n",
    " Total_Paid_Services=PaidService1 + PaidService2 + PaidService3\n",
    "\n",
    "Dataset to be used : \n",
    "    \n",
    "    customerId, Is_FreeService1,Is_FreeService2,Is_FreeService3,Is_PaidService1, Is_PaidService2,_Is_PaidService3, Total_Paid_Services\n",
    "1              1           0             1                1           1           0                    2\n",
    "2              1           0             1                1           1           0                    2  \n",
    "3              0            1            0                0            0           1                   1\n",
    "4              1           0             0                0            1           0                   1\n",
    "    \n",
    "    \n",
    "\n",
    "    Resulting regression formula will be like this:\n",
    "        \n",
    "         Total_Paid_Services = ß0  +  ß1 * Is_FreeService1 +  ß2 * Is_FreeService2 +  ß3 * Is_FreeService3  + E\n",
    " \n",
    "\n",
    "\n",
    "\n"
   ]
  }
 ],
 "metadata": {
  "kernelspec": {
   "display_name": "Python 3",
   "language": "python",
   "name": "python3"
  },
  "language_info": {
   "codemirror_mode": {
    "name": "ipython",
    "version": 3
   },
   "file_extension": ".py",
   "mimetype": "text/x-python",
   "name": "python",
   "nbconvert_exporter": "python",
   "pygments_lexer": "ipython3",
   "version": "3.8.3"
  }
 },
 "nbformat": 4,
 "nbformat_minor": 4
}
