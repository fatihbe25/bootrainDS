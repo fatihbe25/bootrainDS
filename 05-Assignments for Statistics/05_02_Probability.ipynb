{
 "cells": [
  {
   "cell_type": "raw",
   "metadata": {},
   "source": [
    "It has been found that some of the computers sold by Company A are defective. Assuming that there are 3 computer-producing companies (A, B, and C), the amount of computer production of these companies and the probabilities of defective production are as follows:\n",
    "\n",
    "Total production percentage :\n",
    "P(A)=0.40 \n",
    "P(B)=0.40 \n",
    "P(C)=0.20 \n",
    "Possibility of defective production :\n",
    "P(D|A)=0.015 \n",
    "P(D|B)=0.020 \n",
    "P(D|C)=0.010 \n",
    "\n",
    "What is the probability that a randomly selected defective computer will be produced by company B?\n",
    "\n",
    "\n",
    "P(B|D)=  ( P(D|B) * P(B)  ) / P(D)\n",
    "\n",
    "P(D)= P(A)*P(D|A) + P(B)*P(D|B) + P(C)*P(D|C) \n",
    "    = (0.40 * 0.015 ) + (0.40*0.020) + (0.20*0.010) \n",
    "    =0.016\n",
    "\n",
    "P(B|D) = ( 0.020 * 0.40 ) / 0.016  \n",
    "       =0.5\n"
   ]
  }
 ],
 "metadata": {
  "kernelspec": {
   "display_name": "Python 3",
   "language": "python",
   "name": "python3"
  },
  "language_info": {
   "codemirror_mode": {
    "name": "ipython",
    "version": 3
   },
   "file_extension": ".py",
   "mimetype": "text/x-python",
   "name": "python",
   "nbconvert_exporter": "python",
   "pygments_lexer": "ipython3",
   "version": "3.8.3"
  }
 },
 "nbformat": 4,
 "nbformat_minor": 4
}
