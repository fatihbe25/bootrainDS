{
 "cells": [
  {
   "cell_type": "raw",
   "metadata": {},
   "source": [
    "It has been found that some of the computers sold by Company A are defective. Assuming that there are 3 computer-producing companies (A, B, and C), the amount of computer production of these companies and the probabilities of defective production are as follows:\n",
    "\n",
    "Total production percentage :\n",
    "P(A)=0.40 \n",
    "P(B)=0.40 \n",
    "P(C)=0.20 \n",
    "Possibility of defective production :\n",
    "P(D|A)=0.015 \n",
    "P(D|B)=0.020 \n",
    "P(D|C)=0.010 \n",
    "What is the probability that a randomly selected defective computer will be produced by company B?"
   ]
  },
  {
   "cell_type": "code",
   "execution_count": null,
   "metadata": {},
   "outputs": [],
   "source": [
    "\n",
    "#probability of randomly selected computer produced by company B \n",
    "P(B)=0.40\n",
    "\n",
    "#given computer is from company B => probability of to be defective  \n",
    "\n",
    "P(D|B) = 0.020 \n",
    "\n",
    "\n",
    "#random selected defective comp from comp B: \n",
    "   \n",
    "    0.020 / 0.40  =   0.08      "
   ]
  }
 ],
 "metadata": {
  "kernelspec": {
   "display_name": "Python 3",
   "language": "python",
   "name": "python3"
  },
  "language_info": {
   "codemirror_mode": {
    "name": "ipython",
    "version": 3
   },
   "file_extension": ".py",
   "mimetype": "text/x-python",
   "name": "python",
   "nbconvert_exporter": "python",
   "pygments_lexer": "ipython3",
   "version": "3.8.3"
  }
 },
 "nbformat": 4,
 "nbformat_minor": 4
}
