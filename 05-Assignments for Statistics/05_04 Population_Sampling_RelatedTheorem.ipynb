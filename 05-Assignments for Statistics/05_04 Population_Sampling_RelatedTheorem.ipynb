{
 "cells": [
  {
   "cell_type": "markdown",
   "metadata": {},
   "source": [
    "# <font color=blue>Assignment for \"Population Sampling Related Theorem\"</font>"
   ]
  },
  {
   "cell_type": "markdown",
   "metadata": {},
   "source": [
    "Please upload your solutions to the following assignments as Jupyter Notebook to your GitHub account and share the GitHub link with the button below. You can talk to your mentor about your mind or ask Slack at office time.\n",
    "\n",
    "1. In this assignment, you test whether the central limit theorem works. You generate 1000 variables with two normal distributions. You can determine the mean and standard deviation of these variables yourself. All you have to do is generate the first variable 50 times and averaged it each time. Generate the second variable 1000 times and averages this variable each time. Then plot the histogram of the averages of the two variables. Which of the variables has a mean distribution closer to the normal distribution? Do you think the Central Limit Theorem seems to have worked?"
   ]
  },
  {
   "cell_type": "code",
   "execution_count": 15,
   "metadata": {},
   "outputs": [
    {
     "data": {
      "image/png": "[encoded data removed]",
      "text/plain": [
       "<Figure size 1800x480 with 2 Axes>"
      ]
     },
     "metadata": {
      "needs_background": "light"
     },
     "output_type": "display_data"
    },
    {
     "name": "stdout",
     "output_type": "stream",
     "text": [
      "Average of first var1       => 30.150\n",
      "Average of x50 times var1   => 30.012\n",
      "---------------------\n",
      "Average of first var2       => 12.959\n",
      "Average of x1000 times var1 => 13.005\n"
     ]
    }
   ],
   "source": [
    "import numpy as np\n",
    "import matplotlib.pyplot as plt \n",
    "\n",
    "avg1=[]\n",
    "avg2=[]\n",
    "\n",
    "avg_var1_0=0\n",
    "avg_var2_0=0\n",
    "\n",
    "# we create var1 50 times.... \n",
    "\n",
    "for i in range(50):\n",
    "    var1=np.random.normal(30,4,1000)   \n",
    "    a=np.mean(var1)\n",
    "    avg1.append(a)   # we add averages to list\n",
    "    \n",
    "    if avg_var1_0==0:  # we save first times' average \n",
    "        avg_var1_0=a\n",
    "    \n",
    "\n",
    "# we created var2 1000 times.. \n",
    "for i in range(1000):\n",
    "    var2=np.random.normal(13,4,1000)\n",
    "    a=np.mean(var2)\n",
    "    avg2.append(a)  # we add averages to list\n",
    "    \n",
    "    if avg_var2_0==0: # we save first times' average \n",
    "        avg_var2_0=a\n",
    "               \n",
    "\n",
    "plt.figure(figsize=(15,4),dpi=120)\n",
    "plt.subplot(1,2,1)\n",
    "plt.hist(avg1,color=\"red\")\n",
    "plt.title(\"50 times\")\n",
    "               \n",
    "plt.subplot(1,2,2)\n",
    "plt.hist(avg2,color=\"blue\")\n",
    "plt.title(\"1000 times\")          \n",
    "\n",
    "plt.show()\n",
    "\n",
    "print(\"Average of first var1       => {:.3f}\".format(avg_var1_0) )\n",
    "print(\"Average of x50 times var1   => {:.3f}\".format(np.mean(avg1)))\n",
    "print(\"---------------------\")\n",
    "print(\"Average of first var2       => {:.3f}\".format(avg_var2_0) )\n",
    "print(\"Average of x1000 times var1 => {:.3f}\".format(np.mean(avg2)))\n"
   ]
  },
  {
   "cell_type": "markdown",
   "metadata": {},
   "source": [
    "\n",
    "\n",
    "\n",
    "   We created first variable of randomly created normal distribution 50 times and each time we get mean and added to a list and draw histogram of these averages.\n",
    "And do the same for second variable of randomly created normal distribution. \n",
    "\n",
    "As \"Central Limit Theorem\" says; as we increase the repeatation count average of each sample  (not sample in this example!) diverges to first instance average.\n",
    "\n",
    "1000 times sampling produces a resulting normal distribution-like histogram graph.\n",
    "\n",
    "\n"
   ]
  }
 ],
 "metadata": {
  "kernelspec": {
   "display_name": "Python 3",
   "language": "python",
   "name": "python3"
  },
  "language_info": {
   "codemirror_mode": {
    "name": "ipython",
    "version": 3
   },
   "file_extension": ".py",
   "mimetype": "text/x-python",
   "name": "python",
   "nbconvert_exporter": "python",
   "pygments_lexer": "ipython3",
   "version": "3.8.3"
  }
 },
 "nbformat": 4,
 "nbformat_minor": 4
}
