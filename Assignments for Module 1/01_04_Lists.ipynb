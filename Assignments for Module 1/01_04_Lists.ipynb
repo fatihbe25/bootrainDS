{
 "cells": [
  {
   "cell_type": "markdown",
   "metadata": {},
   "source": [
    "# Assignments for \"Lists\" "
   ]
  },
  {
   "cell_type": "markdown",
   "metadata": {},
   "source": [
    "1. Write a code to compute the sum of the two lowest numbers and the two highest numbers in the following list.\n",
    "\n",
    "        my_list = [34, 56, 76, 45, 2, 12, 67, 98, 37, 54, 66]"
   ]
  },
  {
   "cell_type": "code",
   "execution_count": 32,
   "metadata": {},
   "outputs": [
    {
     "name": "stdout",
     "output_type": "stream",
     "text": [
      "List sorted: [2, 12, 34, 37, 45, 54, 56, 66, 67, 76, 98]\n",
      "First two member sum: 14\n",
      "List sorted reverse: [98, 76, 67, 66, 56, 54, 45, 37, 34, 12, 2]\n",
      "First two member sum: 174\n",
      "14 + 174 = 188\n",
      "sum of two lowest and two biggest : 2+12 + 98+76 = 188\n"
     ]
    }
   ],
   "source": [
    "# SOLUTION 1  \n",
    "my_list = [34, 56, 76, 45, 2, 12, 67, 98, 37, 54, 66]\n",
    "\n",
    "my_list.sort()\n",
    "print(\"List sorted:\" , my_list)\n",
    "\n",
    "total1=my_list[0] + my_list[1]\n",
    "print(\"First two member sum:\",total1)\n",
    "\n",
    "my_list.sort(reverse=True)\n",
    "print(\"List sorted reverse:\",my_list)\n",
    "\n",
    "total2=my_list[0] + my_list[1]\n",
    "print(\"First two member sum:\", total2)\n",
    "\n",
    "total=total1 + total2\n",
    "print(\"{} + {} = {}\".format(total1,total2,total))\n",
    "\n",
    "# SOLUTION 2 \n",
    "\n",
    "my_list.sort()\n",
    "print(\"sum of two lowest and two biggest : {}+{} + {}+{} = {}\".format(\n",
    "      my_list[0] , my_list[1] , my_list[-1] , my_list[-2],\n",
    "      my_list[0] + my_list[1] + my_list[-1] + my_list[-2] ))\n",
    "\n"
   ]
  },
  {
   "cell_type": "markdown",
   "metadata": {},
   "source": [
    "2. The following two lists contain student names and scores. Write a code that gets the name from the user and prints the score of that student.\n",
    "\n",
    "        names = [\"David\", \"Michael\", \"John\", \"James\", \"Greg\", \"Mark\", \"William\", \"Richard\", \"Thomas\", \"Steven\", \n",
    "                 \"Mary\", \"Susan\", \"Maria\", \"Karen\", \"Lisa\", \"Linda\", \"Donna\", \"Patricia\", \"Debra\", \"Eric\"]\n",
    "\n",
    "        scores = [99, 87, 78, 86, 68, 94, 76, 97, 56, 98, 76, 87, 79, 90, 73, 93, 82, 69, 97, 98]"
   ]
  },
  {
   "cell_type": "code",
   "execution_count": 13,
   "metadata": {},
   "outputs": [
    {
     "name": "stdin",
     "output_type": "stream",
     "text": [
      "Enter student name: John\n"
     ]
    },
    {
     "name": "stdout",
     "output_type": "stream",
     "text": [
      "Score of John is 78\n"
     ]
    }
   ],
   "source": [
    "names = [\"David\", \"Michael\", \"John\", \"James\", \"Greg\", \"Mark\", \"William\", \"Richard\", \"Thomas\", \"Steven\", \n",
    "          \"Mary\", \"Susan\", \"Maria\", \"Karen\", \"Lisa\", \"Linda\", \"Donna\", \"Patricia\", \"Debra\", \"Eric\"]\n",
    "scores = [99, 87, 78, 86, 68, 94, 76, 97, 56, 98, 76, 87, 79, 90, 73, 93, 82, 69, 97, 98]\n",
    "    \n",
    "student_name=input(\"Enter student name:\")\n",
    "student_index=names.index(student_name)\n",
    "student_score=scores[student_index]\n",
    "print(\"Score of {} is {}\".format(student_name,student_score))"
   ]
  },
  {
   "cell_type": "markdown",
   "metadata": {},
   "source": [
    "3. By using the two lists above, what is the maximum score and how many students got that score?"
   ]
  },
  {
   "cell_type": "code",
   "execution_count": 16,
   "metadata": {},
   "outputs": [
    {
     "name": "stdout",
     "output_type": "stream",
     "text": [
      "Maximum score is 99 and 1 student got this score\n"
     ]
    }
   ],
   "source": [
    "scores.sort(reverse=True)\n",
    "maximum_score=scores[0]\n",
    "top_students=scores.count(maximum_score)\n",
    "\n",
    "print(\"Maximum score is {} and {} student got this score\".format(maximum_score,top_students))\n"
   ]
  },
  {
   "cell_type": "markdown",
   "metadata": {},
   "source": [
    "4. We can confuse about how many days a month is. Create a list to handle it. You will have month names and day counts in your list together as a nested list."
   ]
  },
  {
   "cell_type": "code",
   "execution_count": 6,
   "metadata": {},
   "outputs": [],
   "source": [
    "months_and_day_count_list=[[\"January\",31],[\"February\",28],[\"March\",30],[\"April\",30],[\"May\",31],[\"June\",30],[\"July\",31],[\"August\",31]\n",
    "                           ,[\"September\",30],[\"October\",31],[\"November\",30],[\"December\",31] ]"
   ]
  },
  {
   "cell_type": "markdown",
   "metadata": {},
   "source": [
    "5. Now create lists of months for each season. Get month names and day counts from the list that you create before with slicing. Name the lists with seasons."
   ]
  },
  {
   "cell_type": "code",
   "execution_count": 11,
   "metadata": {},
   "outputs": [
    {
     "name": "stdout",
     "output_type": "stream",
     "text": [
      "Spring: [['March', 30], ['April', 30], ['May', 31]]\n",
      "Summer: [['June', 30], ['July', 31], ['August', 31]]\n",
      "Autumn: [['September', 30], ['October', 31], ['November', 30]]\n",
      "Winter: [['December', 31], [['January', 31], ['February', 28]]]\n",
      "All Seasons: [['March', 30], ['April', 30], ['May', 31], ['June', 30], ['July', 31], ['August', 31], ['September', 30], ['October', 31], ['November', 30], ['December', 31], [['January', 31], ['February', 28]]]\n"
     ]
    }
   ],
   "source": [
    "spring= months_and_day_count_list[2:5]\n",
    "summer= months_and_day_count_list[5:8]\n",
    "autumn= months_and_day_count_list[8:11]\n",
    "winter= [ list(months_and_day_count_list[-1])  ,   months_and_day_count_list[:2] ]\n",
    "       \n",
    "seasons= spring + summer + autumn + winter \n",
    "        \n",
    "print(\"Spring:\",spring)\n",
    "print(\"Summer:\",summer)\n",
    "print(\"Autumn:\",autumn)\n",
    "print(\"Winter:\",winter)\n",
    "print(\"All Seasons:\",seasons)"
   ]
  },
  {
   "cell_type": "markdown",
   "metadata": {},
   "source": [
    "6. Finally, from the list in the previous question, calculate how many days the summer season lasts."
   ]
  },
  {
   "cell_type": "code",
   "execution_count": 13,
   "metadata": {},
   "outputs": [
    {
     "name": "stdout",
     "output_type": "stream",
     "text": [
      "Summer season lasts 92 days\n"
     ]
    }
   ],
   "source": [
    "summer_days_count=summer[0][1] + summer[1][1] + summer[2][1] \n",
    "print(\"Summer season lasts {} days\".format(summer_days_count))"
   ]
  }
 ],
 "metadata": {
  "kernelspec": {
   "display_name": "Python 3",
   "language": "python",
   "name": "python3"
  },
  "language_info": {
   "codemirror_mode": {
    "name": "ipython",
    "version": 3
   },
   "file_extension": ".py",
   "mimetype": "text/x-python",
   "name": "python",
   "nbconvert_exporter": "python",
   "pygments_lexer": "ipython3",
   "version": "3.7.6"
  }
 },
 "nbformat": 4,
 "nbformat_minor": 4
}
