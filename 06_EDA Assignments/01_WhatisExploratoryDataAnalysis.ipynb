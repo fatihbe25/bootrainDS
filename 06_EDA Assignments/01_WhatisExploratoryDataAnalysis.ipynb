{
 "cells": [
  {
   "cell_type": "markdown",
   "metadata": {},
   "source": [
    "# <font color=blue>Assignments for \"What is Exploratory Data Analysis?\"</font>"
   ]
  },
  {
   "cell_type": "markdown",
   "metadata": {},
   "source": [
    "To complete this assignment, send the Github link of the Jupyter notebook file containing solutions to the following questions:"
   ]
  },
  {
   "cell_type": "markdown",
   "metadata": {},
   "source": [
    "1. What is the purpose the data exploration?"
   ]
  },
  {
   "cell_type": "markdown",
   "metadata": {},
   "source": [
    " <font size=\"4\" color=\"red\"> \n",
    "    <ul>\n",
    "      <li>Geting information and wide aspect on our data. </li>\n",
    "      <li>To increase the success on result;\n",
    "           <ul>\n",
    "              <li>Find extreem values (outliners) and if possible and required overcome them.</li>\n",
    "              <li>Find data errors (dublicates, missing values etc)</li>\n",
    "           </ul>\n",
    "      </li>\n",
    "      <li>To fit out data on a model determine the how out data values distributed </li>\n",
    "      <li>Find usable features and relations for using in our analysis.\n",
    "    </ul>  \n",
    "  </font>"
   ]
  },
  {
   "cell_type": "markdown",
   "metadata": {},
   "source": [
    "2. Suppose you are working on a dataset containing customer reviews of an e-commerce company's products. Customer reviews collected through the company's website are rated between 1 and 5 depending on whether the content is positive or negative.\n",
    "    - What kind of problems do you expect to encounter in this raw data?\n",
    "    - What kind of problems do you expect to encounter in this raw data?\n",
    "    - If your task is to identify the characteristics that reveal that the customers' comments are positive or negative, how would you do that and what methods would you use for this?\n",
    "    - What are the useful features that can be extracted from raw data? How can you access this data and understand whether it is useful?"
   ]
  },
  {
   "cell_type": "markdown",
   "metadata": {},
   "source": [
    "<font size=\"4\" color=\"red\">\n",
    "  <ul>\n",
    "  <li>Some values may be null or out of the normal (1-5) range, some reviews may be more than one time occured by the same customers.</li>\n",
    "  <li> We can group data by some categorical or customer specific values and analyz our results on these groups to identify \n",
    "      the characteristics those can be effective on  positive or negative review. </li>\n",
    "  <li>Age, sex, country,... these features may be extracted from raw data. </li>\n",
    "  <li> We use pandas dataframe to access this data and filter by these feautures and check if our target is related with these features using statistics and visualization methods.</li>\n",
    " </ul>   \n",
    "</font>"
   ]
  },
  {
   "cell_type": "markdown",
   "metadata": {},
   "source": [
    "3. Why do you think missing values should be taking care of?"
   ]
  },
  {
   "cell_type": "markdown",
   "metadata": {},
   "source": [
    "<font size=\"4\" color=\"red\">\n",
    "  <ul>\n",
    "  <li>Some statistical python methods produces  exceptions on missing values. </li>\n",
    "  <li>If density of missing values are large this can affect our analysis</li>\n",
    " </ul>   \n",
    "</font>\n",
    "\n"
   ]
  },
  {
   "cell_type": "markdown",
   "metadata": {},
   "source": [
    "4. Do you think that outliers have an impact on a dataset? If so, how would you explain this impact?"
   ]
  },
  {
   "cell_type": "markdown",
   "metadata": {},
   "source": [
    "<font size=\"4\" color=\"red\">\n",
    " \n",
    " Outliers, if exists in large number or have very extreme values, may change our data characteristics.  If our data values normally\n",
    "      distributed outliers may break this distribution and make skew our distribution graph right or left. \n",
    "</font>\n"
   ]
  },
  {
   "cell_type": "markdown",
   "metadata": {},
   "source": [
    "5. Please briefly summarize you first actions when you start analyzing the data?"
   ]
  },
  {
   "cell_type": "markdown",
   "metadata": {},
   "source": [
    "  <font size=\"4\" color=\"red\">\n",
    "  <ul>\n",
    "  <li>Check if missing values exists </li>\n",
    "  <li>Use describe to view general statistics of each features.</li>\n",
    "  <li>Draw distribution graph to detect the distribution of data values for interested features.</li>\n",
    " </ul>   \n",
    "</font>"
   ]
  }
 ],
 "metadata": {
  "kernelspec": {
   "display_name": "Python 3",
   "language": "python",
   "name": "python3"
  },
  "language_info": {
   "codemirror_mode": {
    "name": "ipython",
    "version": 3
   },
   "file_extension": ".py",
   "mimetype": "text/x-python",
   "name": "python",
   "nbconvert_exporter": "python",
   "pygments_lexer": "ipython3",
   "version": "3.8.3"
  }
 },
 "nbformat": 4,
 "nbformat_minor": 4
}
