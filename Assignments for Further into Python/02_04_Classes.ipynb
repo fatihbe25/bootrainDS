{
 "cells": [
  {
   "cell_type": "markdown",
   "metadata": {},
   "source": [
    "# Assignment for \"Classes\""
   ]
  },
  {
   "cell_type": "markdown",
   "metadata": {},
   "source": [
    "In a retail application, many customers visit the retail outlet to purchase various items. The manager of the retail outlet now wants to keep track of all its items' and customers’ data. To achieve this purpose, please:\n",
    "\n",
    "\n",
    "- Define two classes named as `item` (with `item_name` and `price` attributes) and `customer` (with `customer_id`, `phone_number` attributes and `purchase` method). `purchase` method should calculate the total price with the given item name amount."
   ]
  },
  {
   "cell_type": "code",
   "execution_count": null,
   "metadata": {},
   "outputs": [],
   "source": []
  },
  {
   "cell_type": "markdown",
   "metadata": {},
   "source": [
    "- Create an item."
   ]
  },
  {
   "cell_type": "code",
   "execution_count": null,
   "metadata": {},
   "outputs": [],
   "source": []
  },
  {
   "cell_type": "markdown",
   "metadata": {},
   "source": [
    "- Create a customer with an arbitrary ID and number."
   ]
  },
  {
   "cell_type": "code",
   "execution_count": null,
   "metadata": {},
   "outputs": [],
   "source": []
  },
  {
   "cell_type": "markdown",
   "metadata": {},
   "source": [
    "- Make customers buy an item with an arbitrary amount and then print the total price."
   ]
  },
  {
   "cell_type": "code",
   "execution_count": 5,
   "metadata": {},
   "outputs": [
    {
     "name": "stdout",
     "output_type": "stream",
     "text": [
      "Total price for 4 amount of ProductA is 42.0\n"
     ]
    }
   ],
   "source": [
    "class item:\n",
    "    def __init__(self,item_name,price):\n",
    "        self.item_name=item_name\n",
    "        self.price=price\n",
    "\n",
    "class customer:\n",
    "    def __init__(self,customer_id,phone_number):\n",
    "        self.customer_id=customer_id\n",
    "        self.phone_number=phone_number\n",
    "    \n",
    "    def purchase(self,item,amount):\n",
    "        return item.price*amount\n",
    "\n",
    "    \n",
    "itemA=item(\"ProductA\",10.50)\n",
    "customerA=customer(5439,233442233)\n",
    "\n",
    "amount=4\n",
    "totalPrice=customerA.purchase(itemA,amount)\n",
    "\n",
    "print(\"Total price for {} amount of {} is {}\".format(amount,itemA.item_name,totalPrice))"
   ]
  }
 ],
 "metadata": {
  "kernelspec": {
   "display_name": "Python 3",
   "language": "python",
   "name": "python3"
  },
  "language_info": {
   "codemirror_mode": {
    "name": "ipython",
    "version": 3
   },
   "file_extension": ".py",
   "mimetype": "text/x-python",
   "name": "python",
   "nbconvert_exporter": "python",
   "pygments_lexer": "ipython3",
   "version": "3.7.6"
  }
 },
 "nbformat": 4,
 "nbformat_minor": 4
}
