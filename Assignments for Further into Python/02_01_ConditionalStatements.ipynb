{
 "cells": [
  {
   "cell_type": "markdown",
   "metadata": {},
   "source": [
    "# Assignments for \"Conditional Statements\""
   ]
  },
  {
   "cell_type": "markdown",
   "metadata": {},
   "source": [
    "1. Please get Celcius or Fahrenheit degrees from users and type a code to convert these heat units to each other.  \n",
    "    For conversion, please use this formula: C = (5/9) * (F - 32)\n",
    "    \n",
    "        Example : \"40C\" --> \"104F\"\n",
    "                  \"52F\" --> \"11.1C\""
   ]
  },
  {
   "cell_type": "code",
   "execution_count": 1,
   "metadata": {},
   "outputs": [
    {
     "name": "stdin",
     "output_type": "stream",
     "text": [
      "Enter tempreture ( put C for Celcius or F for Fahrenheit as last charachter): 40C\n"
     ]
    },
    {
     "name": "stdout",
     "output_type": "stream",
     "text": [
      "Tempreture in Fahrenheit:104.00F\n"
     ]
    }
   ],
   "source": [
    "\n",
    "tempInput=input(\"Enter tempreture ( put C for Celcius or F for Fahrenheit as last charachter):\")\n",
    "\n",
    "convertedTemp=0.0\n",
    "if(len(tempInput)<2):\n",
    "    print(\"Invalid input!\")\n",
    "elif(tempInput[0:-1].isdigit()==False):\n",
    "    print(\"Invalid input!\")\n",
    "else:  \n",
    "    temp=float(tempInput[0:-1])\n",
    "    if tempInput[-1]==\"F\":\n",
    "        convertedTemp = (5/9) * (float(temp) - 32)\n",
    "        print(\"Tempreture in Celcius:{:.2f}C\".format(convertedTemp))\n",
    "    elif tempInput[-1]==\"C\":\n",
    "        convertedTemp= (9*float(temp)/5) + 32\n",
    "        print(\"Tempreture in Fahrenheit:{:.2f}F\".format(convertedTemp))\n",
    "    else:\n",
    "        print(\"Last character must be C or F\")\n",
    "\n"
   ]
  },
  {
   "cell_type": "markdown",
   "metadata": {},
   "source": [
    "2. A company decided to give a bonus of 5% to the employees if his/her year of service is more than 5 years.\n",
    "Ask the user for their salary and year of service and print the net bonus amount."
   ]
  },
  {
   "cell_type": "code",
   "execution_count": 2,
   "metadata": {},
   "outputs": [
    {
     "name": "stdin",
     "output_type": "stream",
     "text": [
      "What is your salary? 1000\n",
      "What is your year of service? 6\n"
     ]
    },
    {
     "name": "stdout",
     "output_type": "stream",
     "text": [
      "Your Net Bonus :50.00\n"
     ]
    }
   ],
   "source": [
    "salary=int(input(\"What is your salary?\"))\n",
    "service_years=int(input(\"What is your year of service?\"))\n",
    "\n",
    "bonus=0\n",
    "if(service_years>5):\n",
    "    bonus=5\n",
    "\n",
    "print(\"Your Net Bonus :{:.2f}\".format( salary * bonus/100))"
   ]
  },
  {
   "cell_type": "markdown",
   "metadata": {},
   "source": [
    "3. Take input of ages of 3 people by the user and determine the oldest and youngest among them."
   ]
  },
  {
   "cell_type": "code",
   "execution_count": 5,
   "metadata": {},
   "outputs": [
    {
     "name": "stdin",
     "output_type": "stream",
     "text": [
      "Person 1 Age?: 34\n",
      "Person 2 Age?: 26\n",
      "Person 3 Age?: 58\n"
     ]
    },
    {
     "name": "stdout",
     "output_type": "stream",
     "text": [
      "Youngest is 2. person with age 26\n",
      "Oldest is 3.person with age 58\n"
     ]
    }
   ],
   "source": [
    "age1=int(input(\"Person 1 Age?:\"))\n",
    "age2=int(input(\"Person 2 Age?:\"))\n",
    "age3=int(input(\"Person 3 Age?:\"))\n",
    "\n",
    "ages= {1:age1,2:age2,3:age3}\n",
    "\n",
    "youngest=ages[1]\n",
    "youngestIndex=1\n",
    "oldest=ages[1]\n",
    "oldestIndex=1\n",
    "\n",
    "for i in range(1,4):\n",
    "    if ages[i]<youngest:\n",
    "        youngest=ages[i]\n",
    "        youngestIndex=i\n",
    "    if ages[i]>oldest:\n",
    "        oldest=ages[i]\n",
    "        oldestIndex=i\n",
    "\n",
    "print(\"Youngest is {}. person with age {}\\nOldest is {}.person with age {}\".format(youngestIndex,youngest,oldestIndex,oldest))"
   ]
  },
  {
   "cell_type": "markdown",
   "metadata": {},
   "source": [
    "4. A student will not be allowed to attend to the exam if his / her attendance to classes is less than 75%. Take followings input from the user:\n",
    "    - Number of classes held,\n",
    "    - Number of classes attended.\n",
    "   \n",
    "    Then, print the percentage of classes attended and whether the student is allowed to attend in an exam or not."
   ]
  },
  {
   "cell_type": "code",
   "execution_count": 10,
   "metadata": {},
   "outputs": [
    {
     "name": "stdin",
     "output_type": "stream",
     "text": [
      "How many classes the student held?: 10\n",
      "How many classes the student attended?: 8\n"
     ]
    },
    {
     "name": "stdout",
     "output_type": "stream",
     "text": [
      "Student attended %80.0 of classes so,\n",
      ":) - The student allowed to attend to the exam.\n"
     ]
    }
   ],
   "source": [
    "classes_held=int(input(\"How many classes the student held?:\"))\n",
    "classes_attended=int(input(\"How many classes the student attended?:\"))\n",
    "attendance_percentage=(classes_attended/classes_held)*100\n",
    "minumum_attendance_percentage=75\n",
    "print(\"Student attended %{} of classes so,\".format(attendance_percentage))\n",
    "\n",
    "if attendance_percentage<minumum_attendance_percentage:\n",
    "    print(\":( - The student not allowed to attend to the exam!\")\n",
    "else:\n",
    "    print(\":) - The student allowed to attend to the exam.\")\n",
    "\n"
   ]
  },
  {
   "cell_type": "markdown",
   "metadata": {},
   "source": [
    "5. In this exercise, you will create a program that reads a letter of the alphabet from the user. According to the answer:\n",
    "\n",
    "    - If the user enters `a, e, i, o, u`, then your program should display a message indicating that the entered letter is a vowel.\n",
    "    - If the user enters `y`, then your program should display a message indicating that y is sometimes a vowel and sometimes a consonant.\n",
    "    - Otherwise, your program should display a message indicating that the letter is a consonant."
   ]
  },
  {
   "cell_type": "code",
   "execution_count": 14,
   "metadata": {},
   "outputs": [
    {
     "name": "stdin",
     "output_type": "stream",
     "text": [
      "Enter a letter in alphabet:  y\n"
     ]
    },
    {
     "name": "stdout",
     "output_type": "stream",
     "text": [
      "The letter y is sometimes a vowel and sometimes a consonant.\n"
     ]
    }
   ],
   "source": [
    "letter=input(\"Enter a letter in alphabet: \")\n",
    "vovels=\"aeiou\"\n",
    "both=\"y\"\n",
    "\n",
    "if letter in vovels:\n",
    "    print(\"The letter {} is a vowel\".format(letter))\n",
    "elif letter in both:\n",
    "    print(\"The letter {} is sometimes a vowel and sometimes a consonant.\".format(letter))\n",
    "else:\n",
    "    print(\"The letter {} is a consonant\".format(letter))\n"
   ]
  },
  {
   "cell_type": "code",
   "execution_count": null,
   "metadata": {},
   "outputs": [],
   "source": [
    ":"
   ]
  }
 ],
 "metadata": {
  "kernelspec": {
   "display_name": "Python 3",
   "language": "python",
   "name": "python3"
  },
  "language_info": {
   "codemirror_mode": {
    "name": "ipython",
    "version": 3
   },
   "file_extension": ".py",
   "mimetype": "text/x-python",
   "name": "python",
   "nbconvert_exporter": "python",
   "pygments_lexer": "ipython3",
   "version": "3.7.6"
  }
 },
 "nbformat": 4,
 "nbformat_minor": 4
}
