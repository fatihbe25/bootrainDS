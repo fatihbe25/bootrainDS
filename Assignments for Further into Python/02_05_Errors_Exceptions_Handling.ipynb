{
 "cells": [
  {
   "cell_type": "markdown",
   "metadata": {},
   "source": [
    "# Assignments for \"Errors and Exception Handling \""
   ]
  },
  {
   "cell_type": "markdown",
   "metadata": {},
   "source": [
    "1. Let us define a division operation inside a function (using `def`) but to get an error, define the denominator as 0. So, type properly except statement."
   ]
  },
  {
   "cell_type": "code",
   "execution_count": 13,
   "metadata": {},
   "outputs": [
    {
     "name": "stdout",
     "output_type": "stream",
     "text": [
      "cannot devide by zero!\n"
     ]
    }
   ],
   "source": [
    "def devision(num,denum):\n",
    "    dev=0\n",
    "    try:\n",
    "        dev=num/denum\n",
    "    except ZeroDivisionError:\n",
    "        print (\"cannot devide by zero!\")\n",
    "    else:\n",
    "        return dev\n",
    "    \n",
    "            \n",
    "d=devision(1,0)\n",
    "\n",
    "if d != None:\n",
    "    print(\"result:\", d)\n"
   ]
  },
  {
   "cell_type": "markdown",
   "metadata": {},
   "source": [
    "2. It is possible to get multiple errors after the execution of one try block. So, please define an error-exception issue with `NameError`."
   ]
  },
  {
   "cell_type": "code",
   "execution_count": 20,
   "metadata": {},
   "outputs": [
    {
     "name": "stdout",
     "output_type": "stream",
     "text": [
      "name 'x' is not defined\n",
      "Name not found!\n"
     ]
    }
   ],
   "source": [
    "try:\n",
    "    g=x + 1\n",
    "except NameError as e:\n",
    "    print(e)\n",
    "    #print(\"Name not found!\")   "
   ]
  },
  {
   "cell_type": "markdown",
   "metadata": {},
   "source": [
    "3. Please define a function and with this function, generate a `ValueError` exception simply by entering a string instead of numerical value."
   ]
  },
  {
   "cell_type": "code",
   "execution_count": 24,
   "metadata": {},
   "outputs": [
    {
     "name": "stdin",
     "output_type": "stream",
     "text": [
      "Enter a number:  abc\n"
     ]
    },
    {
     "name": "stdout",
     "output_type": "stream",
     "text": [
      "Value Error: invalid literal for int() with base 10: 'abc'\n"
     ]
    }
   ],
   "source": [
    "def power(p):\n",
    "    pwr=0\n",
    "    try:\n",
    "        number=int(input(\"Enter a number: \"))\n",
    "        pwr=number**p\n",
    "    except ValueError as e: \n",
    "        print(\"Value Error:\", e)\n",
    "        \n",
    "    return pwr\n",
    "\n",
    "p=power(3)\n",
    "\n"
   ]
  }
 ],
 "metadata": {
  "kernelspec": {
   "display_name": "Python 3",
   "language": "python",
   "name": "python3"
  },
  "language_info": {
   "codemirror_mode": {
    "name": "ipython",
    "version": 3
   },
   "file_extension": ".py",
   "mimetype": "text/x-python",
   "name": "python",
   "nbconvert_exporter": "python",
   "pygments_lexer": "ipython3",
   "version": "3.7.6"
  }
 },
 "nbformat": 4,
 "nbformat_minor": 4
}
