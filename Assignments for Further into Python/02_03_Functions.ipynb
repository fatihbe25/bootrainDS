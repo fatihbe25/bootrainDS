{
 "cells": [
  {
   "cell_type": "markdown",
   "metadata": {},
   "source": [
    "# Assignments for \"Functions\""
   ]
  },
  {
   "cell_type": "markdown",
   "metadata": {},
   "source": [
    "1. A prime number is an integer greater than one that is only divisible by one and itself. Write a function that determines whether or not its parameter is prime, returns `True` if it is and `False` otherwise. Write a main program that reads an integer from the user and displays a message indicating whether or not it is prime. Ensure that the main program does not run if the file containing your solution is imported into another program.<br>"
   ]
  },
  {
   "cell_type": "code",
   "execution_count": 24,
   "metadata": {},
   "outputs": [
    {
     "name": "stdin",
     "output_type": "stream",
     "text": [
      "Enter a number: 13\n"
     ]
    },
    {
     "name": "stdout",
     "output_type": "stream",
     "text": [
      "13 is prime\n"
     ]
    }
   ],
   "source": [
    "def isPrime(number):\n",
    "    if number<2:\n",
    "        return False\n",
    "    \n",
    "    for i in range(2,number):\n",
    "        if number%i==0:\n",
    "            return False\n",
    "        \n",
    "    return True\n",
    "\n",
    "## solution 2 by a method in this link : https://www.youtube.com/watch?v=eO0tlH4nugo\n",
    "def isPrime2(number):\n",
    "    if number<2:\n",
    "        return False\n",
    "    if number<8:\n",
    "        if number in [2,3,5,7]:\n",
    "            return True\n",
    "        else:\n",
    "            return False\n",
    "        \n",
    "    rem_div_six=number%6\n",
    "    if rem_div_six not in [1,5]:\n",
    "        return False\n",
    "    \n",
    "    if number%5==0 or number%7==0:\n",
    "        return False\n",
    " \n",
    "    return True\n",
    "    \n",
    "\n",
    "number=int(input(\"Enter a number:\"))\n",
    "isprime=isPrime(number)\n",
    "#isprime=isPrime2(number)\n",
    "\n",
    "if isprime:\n",
    "    print(\"{} is prime\".format(number))\n",
    "else:\n",
    "    print(\"{} is NOT prime\".format(number))\n",
    "\n",
    "        "
   ]
  },
  {
   "cell_type": "markdown",
   "metadata": {},
   "source": [
    "2. Please write a function that passes each element of a list only once to a new list. We usually do this with the `set()` command, but let us not use this command this time.\n",
    "\n",
    "    Example:\n",
    "    \n",
    "        unique_list([1,2,2,3,3,4,4]) = [1,2,3,4] <br><br>"
   ]
  },
  {
   "cell_type": "code",
   "execution_count": 1,
   "metadata": {},
   "outputs": [
    {
     "name": "stdout",
     "output_type": "stream",
     "text": [
      "[1, 2, 3, 4]\n"
     ]
    }
   ],
   "source": [
    "def unique_list(list1):\n",
    "    unqList=[]\n",
    "    for i in list1:\n",
    "        if i not in unqList:\n",
    "            unqList.append(i)\n",
    "    return unqList\n",
    "\n",
    "print(unique_list([1,2,2,3,3,4,4]))"
   ]
  },
  {
   "cell_type": "markdown",
   "metadata": {},
   "source": [
    "3. There are many built-in modules in Python. By importing one of the modules on time, write a function that takes the date of birth as a parameter and returns the age.<br><br>"
   ]
  },
  {
   "cell_type": "code",
   "execution_count": 23,
   "metadata": {},
   "outputs": [
    {
     "name": "stdout",
     "output_type": "stream",
     "text": [
      "Birth date: 18.11.1977 , Age: 42\n"
     ]
    }
   ],
   "source": [
    "from datetime import datetime\n",
    "\n",
    "def calc_age(date_of_birth):\n",
    "        today=datetime.today()\n",
    "        dif_days=(t-date_of_birth).days\n",
    "        \n",
    "        years=int(dif_days/365.25)\n",
    "        return years \n",
    "    \n",
    "\n",
    "d=datetime(1977,11,18)\n",
    "age=calc_age(d)\n",
    "\n",
    "print(\"Birth date: {:%d.%m.%Y} , Age: {}\".format(d,age))\n",
    "        "
   ]
  },
  {
   "cell_type": "markdown",
   "metadata": {},
   "source": [
    "4. Get a number from the user and calculate the factorial of it by using a function.<br><br>"
   ]
  },
  {
   "cell_type": "code",
   "execution_count": 36,
   "metadata": {},
   "outputs": [
    {
     "name": "stdin",
     "output_type": "stream",
     "text": [
      "Enter a number:  7\n"
     ]
    },
    {
     "name": "stdout",
     "output_type": "stream",
     "text": [
      "factorial of 7 is 5040.\n"
     ]
    }
   ],
   "source": [
    "def factorial(n):\n",
    "    if n<0:\n",
    "        return 0\n",
    "    elif n==0:\n",
    "        return 1\n",
    "    else:\n",
    "        fac=1\n",
    "        for x in range(n,0,-1):\n",
    "            fac*=x\n",
    "        return fac\n",
    "\n",
    "number=int(input(\"Enter a number: \"))\n",
    "factorial_of_number=factorial(number)\n",
    "\n",
    "print(\"factorial of {} is {}.\".format(number,factorial_of_number))\n"
   ]
  },
  {
   "cell_type": "markdown",
   "metadata": {},
   "source": [
    "5. Write a function named `perfect()` that determines if the parameter number is a perfect number. Use this function in a program that determines and prints all the perfect numbers between 1 and 1000.\n",
    "\n",
    "    An integer number is said to be a `perfect number` if its factors (including 1, but not the number itself) sum to the number. \n",
    "\n",
    "        E.g.: 6 is a perfect number because 6 = 1 + 2 + 3.<br><br>"
   ]
  },
  {
   "cell_type": "code",
   "execution_count": 39,
   "metadata": {},
   "outputs": [
    {
     "name": "stdout",
     "output_type": "stream",
     "text": [
      "6 is perfect!\n",
      "28 is perfect!\n",
      "496 is perfect!\n"
     ]
    }
   ],
   "source": [
    "#a function to get factors of a number except itself.\n",
    "def factors(number):\n",
    "    f=[]\n",
    "    for n in range(1,number//2 + 1):  #from 1 to half of number + 1  check if devides the number, if devides add to list.  \n",
    "        if number%n==0:\n",
    "            f.append(n)\n",
    "    return f;\n",
    "\n",
    "# function to check if the number is perfect.\n",
    "def perfect(number):\n",
    "    facts=factors(number)  # get the factors list.\n",
    "    total=0\n",
    "    for f in facts:  #  sum the factors.\n",
    "        total+=f\n",
    " \n",
    "    return total==number \n",
    "\n",
    "for x in range(1,1001):\n",
    "    if perfect(x):\n",
    "        print(\"{} is perfect!\".format(x))\n",
    "    "
   ]
  },
  {
   "cell_type": "markdown",
   "metadata": {},
   "source": [
    "6. Write a Python function that prints out the first n rows of [Pascal's triangle](https://en.wikipedia.org/wiki/Pascal%27s_triangle). \n",
    "\n",
    "<div style=\"text-align:center;\">\n",
    "    <img src=\"https://bootrain-lms-assets.s3.eu-central-1.amazonaws.com/bootrain-lms-static/images/02_IntermediatePython/03_PascalsTriangle.gif\" width=\"200\">\n",
    "\n",
    "    \n",
    "    In Pascal's triangle, each number is the sum of the two numbers directly above it.\n",
    "</div>"
   ]
  },
  {
   "cell_type": "code",
   "execution_count": 53,
   "metadata": {},
   "outputs": [
    {
     "name": "stdout",
     "output_type": "stream",
     "text": [
      "     [1]\n",
      "    [1, 1]\n",
      "   [1, 2, 1]\n",
      "  [1, 3, 3, 1]\n",
      " [1, 4, 6, 4, 1]\n"
     ]
    }
   ],
   "source": [
    "\n",
    "def pascal_triangle_rows(n):\n",
    "    dict={0:[1]}\n",
    "\n",
    "    for r in range(1,n):\n",
    "        new_row=[1] # first element is one.\n",
    "        for c in range(1,r+1):\n",
    "            prev_row=dict[r-1] \n",
    "            if c==r: #last element is one. \n",
    "                new_row.append(1)\n",
    "                break\n",
    "            #2nd element is sum of prev rows's 1st and 2nd elements. \n",
    "            new_row.append(prev_row[c-1] +  prev_row[c])\n",
    "        dict[r]=new_row\n",
    "    \n",
    "    return dict\n",
    "\n",
    "row_count=5\n",
    "ptr=pascal_triangle_rows(row_count)\n",
    "\n",
    "#print(ptr)\n",
    "\n",
    "for k,v in  zip(ptr.keys(),ptr.values()):\n",
    "    print(\" \"*(row_count-1-k),v)\n"
   ]
  },
  {
   "cell_type": "code",
   "execution_count": null,
   "metadata": {},
   "outputs": [],
   "source": []
  }
 ],
 "metadata": {
  "kernelspec": {
   "display_name": "Python 3",
   "language": "python",
   "name": "python3"
  },
  "language_info": {
   "codemirror_mode": {
    "name": "ipython",
    "version": 3
   },
   "file_extension": ".py",
   "mimetype": "text/x-python",
   "name": "python",
   "nbconvert_exporter": "python",
   "pygments_lexer": "ipython3",
   "version": "3.7.6"
  }
 },
 "nbformat": 4,
 "nbformat_minor": 4
}
