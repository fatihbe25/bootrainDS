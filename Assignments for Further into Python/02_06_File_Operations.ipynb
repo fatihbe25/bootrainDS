{
 "cells": [
  {
   "cell_type": "markdown",
   "metadata": {},
   "source": [
    "# Assignments for \"File Operations\""
   ]
  },
  {
   "cell_type": "markdown",
   "metadata": {},
   "source": [
    "1. Please write a poem you wanted in a `.txt` file and save it to the disk."
   ]
  },
  {
   "cell_type": "code",
   "execution_count": 11,
   "metadata": {},
   "outputs": [
    {
     "name": "stdout",
     "output_type": "stream",
     "text": [
      "text writen to file.\n"
     ]
    }
   ],
   "source": [
    "text=\"\"\"Tell me not, in mournful numbers,\n",
    "Life is but an empty dream!\n",
    "For the soul is dead that slumbers,\n",
    "And things are not what they seem.\n",
    "\n",
    "Life is real! Life is earnest!\n",
    "And the grave is not its goal;\n",
    "Dust thou art, to dust returnest,\n",
    "Was not spoken of the soul.\n",
    "\n",
    "Not enjoyment, and not sorrow,\n",
    "Is our destined end or way;\n",
    "But to act, that each to-morrow\n",
    "Find us farther than to-day.\n",
    "\n",
    "Art is long, and Time is fleeting,\n",
    "And our hearts, though stout and brave,\n",
    "Still, like muffled drums, are beating\n",
    "Funeral marches to the grave.\n",
    "\n",
    "In the world’s broad field of battle,\n",
    "In the bivouac of Life,\n",
    "Be not like dumb, driven cattle!\n",
    "Be a hero in the strife!\n",
    "\"\"\"\n",
    "\n",
    "try:\n",
    "    f=open('poem.txt','w',encoding='UTF8')\n",
    "    f.write(text)\n",
    "except Exception as e:\n",
    "    print(\"file operation error:\",e)\n",
    "else:\n",
    "    print(\"text writen to file.\")\n",
    "finally:\n",
    "    if f is not None:\n",
    "        f.close()\n",
    "\n",
    "\n",
    "\n",
    "\n"
   ]
  },
  {
   "cell_type": "markdown",
   "metadata": {},
   "source": [
    "2. Append a new poem into the file you have created."
   ]
  },
  {
   "cell_type": "code",
   "execution_count": 12,
   "metadata": {},
   "outputs": [
    {
     "name": "stdout",
     "output_type": "stream",
     "text": [
      "text added to file.\n"
     ]
    }
   ],
   "source": [
    "text1=\"\"\"\n",
    "Trust no Future, howe’er pleasant!\n",
    "Let the dead Past bury its dead!\n",
    "Act,—act in the living Present!\n",
    "Heart within, and God o’erhead!\n",
    "\n",
    "Lives of great men all remind us\n",
    "We can make our lives sublime,\n",
    "And, departing, leave behind us\n",
    "Footprints on the sands of time;\n",
    "\n",
    "Footprints, that perhaps another,\n",
    "Sailing o’er life’s solemn main,\n",
    "A forlorn and shipwrecked brother,\n",
    "Seeing, shall take heart again.\n",
    "\n",
    "Let us, then, be up and doing,\n",
    "With a heart for any fate;\n",
    "Still achieving, still pursuing,\n",
    "Learn to labor and to wait.\"\"\"\n",
    "try:\n",
    "    f=open('poem.txt','a',encoding='UTF8')\n",
    "    f.write(text1)\n",
    "except Exception as e:\n",
    "    print(\"file operation error:\",e)\n",
    "else:\n",
    "    print(\"text added to file.\")\n",
    "finally:\n",
    "    if f is not None:\n",
    "        f.close()\n",
    "\n"
   ]
  },
  {
   "cell_type": "markdown",
   "metadata": {},
   "source": [
    "3. Read and print all poems."
   ]
  },
  {
   "cell_type": "code",
   "execution_count": 14,
   "metadata": {},
   "outputs": [
    {
     "name": "stdout",
     "output_type": "stream",
     "text": [
      "A Psalm of Life by Henry Wadsworth Longfellow : \n",
      " -------------------------------------------------- \n",
      "Tell me not, in mournful numbers,\n",
      "Life is but an empty dream!\n",
      "For the soul is dead that slumbers,\n",
      "And things are not what they seem.\n",
      "\n",
      "Life is real! Life is earnest!\n",
      "And the grave is not its goal;\n",
      "Dust thou art, to dust returnest,\n",
      "Was not spoken of the soul.\n",
      "\n",
      "Not enjoyment, and not sorrow,\n",
      "Is our destined end or way;\n",
      "But to act, that each to-morrow\n",
      "Find us farther than to-day.\n",
      "\n",
      "Art is long, and Time is fleeting,\n",
      "And our hearts, though stout and brave,\n",
      "Still, like muffled drums, are beating\n",
      "Funeral marches to the grave.\n",
      "\n",
      "In the world’s broad field of battle,\n",
      "In the bivouac of Life,\n",
      "Be not like dumb, driven cattle!\n",
      "Be a hero in the strife!\n",
      "\n",
      "Trust no Future, howe’er pleasant!\n",
      "Let the dead Past bury its dead!\n",
      "Act,—act in the living Present!\n",
      "Heart within, and God o’erhead!\n",
      "\n",
      "Lives of great men all remind us\n",
      "We can make our lives sublime,\n",
      "And, departing, leave behind us\n",
      "Footprints on the sands of time;\n",
      "\n",
      "Footprints, that perhaps another,\n",
      "Sailing o’er life’s solemn main,\n",
      "A forlorn and shipwrecked brother,\n",
      "Seeing, shall take heart again.\n",
      "\n",
      "Let us, then, be up and doing,\n",
      "With a heart for any fate;\n",
      "Still achieving, still pursuing,\n",
      "Learn to labor and to wait.\n"
     ]
    }
   ],
   "source": [
    "try:\n",
    "    f=open(\"poem.txt\",\"r\",encoding=\"UTF8\")\n",
    "    text=f.read()\n",
    "except Exception as e:\n",
    "    print(\"file operation error:\", e)\n",
    "else:\n",
    "    print(\"A Psalm of Life by Henry Wadsworth Longfellow : \\n\",\"-\"*50, \"\\n\" + text)\n",
    "finally:\n",
    "    if f is not None:\n",
    "        f.close()\n",
    "\n"
   ]
  }
 ],
 "metadata": {
  "kernelspec": {
   "display_name": "Python 3",
   "language": "python",
   "name": "python3"
  },
  "language_info": {
   "codemirror_mode": {
    "name": "ipython",
    "version": 3
   },
   "file_extension": ".py",
   "mimetype": "text/x-python",
   "name": "python",
   "nbconvert_exporter": "python",
   "pygments_lexer": "ipython3",
   "version": "3.7.6"
  }
 },
 "nbformat": 4,
 "nbformat_minor": 4
}
