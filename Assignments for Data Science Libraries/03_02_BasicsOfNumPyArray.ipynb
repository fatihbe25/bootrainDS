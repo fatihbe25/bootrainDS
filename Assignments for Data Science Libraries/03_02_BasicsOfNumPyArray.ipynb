{
 "cells": [
  {
   "cell_type": "markdown",
   "metadata": {},
   "source": [
    "# <font color=blue>Assignments for \"basics of NumPy Array\"</font>"
   ]
  },
  {
   "cell_type": "markdown",
   "metadata": {},
   "source": [
    "1. Create 3 lists representing house features, each list containing 10 values. First one for squaremeter of house, second one for rooms and last one for price. Then, create an array combining these lists."
   ]
  },
  {
   "cell_type": "code",
   "execution_count": 1,
   "metadata": {},
   "outputs": [
    {
     "name": "stdout",
     "output_type": "stream",
     "text": [
      "squaremeter of house:\n",
      " [45, 72, 64, 89, 70, 100, 95, 84, 77, 93]\n",
      "rooms:\n",
      " [1, 3, 2, 3, 3, 4, 4, 3, 3, 4]\n",
      "prices:\n",
      " [150000, 200000, 170000, 210000, 190000, 310000, 280000, 240000, 180000, 290000]\n",
      "house features:\n",
      " [[    45     72     64     89     70    100     95     84     77     93]\n",
      " [     1      3      2      3      3      4      4      3      3      4]\n",
      " [150000 200000 170000 210000 190000 310000 280000 240000 180000 290000]]\n"
     ]
    }
   ],
   "source": [
    "import  numpy as np\n",
    "\n",
    "house_sqm=[45,72,64,89,70,100,95,84,77,93]\n",
    "rooms=[1,3,2,3,3,4,4,3,3,4]\n",
    "prices=[150000,200000,170000,210000,190000,310000,280000,240000,180000,290000]\n",
    "\n",
    "house_features=np.array([house_sqm,rooms,prices])\n",
    "\n",
    "print(\"squaremeter of house:\\n\",house_sqm)\n",
    "print(\"rooms:\\n\",rooms)\n",
    "print(\"prices:\\n\",prices)\n",
    "\n",
    "print(\"house features:\\n\",house_features)\n"
   ]
  },
  {
   "cell_type": "markdown",
   "metadata": {},
   "source": [
    "2. Transpose the array you have created, so that every line can represent features of one house."
   ]
  },
  {
   "cell_type": "code",
   "execution_count": 2,
   "metadata": {},
   "outputs": [
    {
     "name": "stdout",
     "output_type": "stream",
     "text": [
      "house_features:\n",
      "   sqm      rooms price \n",
      " [[    45      1 150000]\n",
      " [    72      3 200000]\n",
      " [    64      2 170000]\n",
      " [    89      3 210000]\n",
      " [    70      3 190000]\n",
      " [   100      4 310000]\n",
      " [    95      4 280000]\n",
      " [    84      3 240000]\n",
      " [    77      3 180000]\n",
      " [    93      4 290000]]\n"
     ]
    }
   ],
   "source": [
    "hf=house_features.T\n",
    "\n",
    "print(\"house_features:\\n   sqm      rooms price \\n\",hf)"
   ]
  },
  {
   "cell_type": "markdown",
   "metadata": {},
   "source": [
    "3. Display the shape of the array and explain what it means."
   ]
  },
  {
   "cell_type": "code",
   "execution_count": 3,
   "metadata": {},
   "outputs": [
    {
     "name": "stdout",
     "output_type": "stream",
     "text": [
      "shape of array:  (3, 10)\n",
      "\t\t  ^   ^\n",
      "\t\t  |   |\n",
      "\t\t rows columns\n",
      "----------------------------------------------------------------------------------------------------\n",
      "each row stores an house different feature. There are 10 house (column count)\n"
     ]
    }
   ],
   "source": [
    "print(\"shape of array: \", house_features.shape )\n",
    "print(\"\\t\"*2, \" ^   ^\")\n",
    "print(\"\\t\"*2, \" |   |\")\n",
    "print(\"\\t\"*2, \"rows columns\")\n",
    "\n",
    "print(\"-\"*100)\n",
    "print(\"each row stores an house different feature. There are 10 house (column count)\")"
   ]
  },
  {
   "cell_type": "markdown",
   "metadata": {},
   "source": [
    "4. Write a function that returns an array of ones with zeros where both row and column numbers are even. Sample array is below. Number of rows and columns will be entered as parameters.\n",
    "\n",
    "```python\n",
    "    shape(6 x 5) --> [[1   1   1   1   1]\n",
    "                      [1   0   1   0   1]\n",
    "                      [1   1   1   1   1]\n",
    "                      [1   0   1   0   1]\n",
    "                      [1   1   1   1   1]\n",
    "                      [1   0   1   0   1]]\n",
    "```"
   ]
  },
  {
   "cell_type": "code",
   "execution_count": 9,
   "metadata": {},
   "outputs": [
    {
     "name": "stdin",
     "output_type": "stream",
     "text": [
      "Enter row number 8\n",
      "Enter column number 7\n"
     ]
    },
    {
     "name": "stdout",
     "output_type": "stream",
     "text": [
      "[[1. 1. 1. 1. 1. 1. 1.]\n",
      " [1. 0. 1. 0. 1. 0. 1.]\n",
      " [1. 1. 1. 1. 1. 1. 1.]\n",
      " [1. 0. 1. 0. 1. 0. 1.]\n",
      " [1. 1. 1. 1. 1. 1. 1.]\n",
      " [1. 0. 1. 0. 1. 0. 1.]\n",
      " [1. 1. 1. 1. 1. 1. 1.]\n",
      " [1. 0. 1. 0. 1. 0. 1.]]\n"
     ]
    }
   ],
   "source": [
    "import  numpy as np\n",
    "\n",
    "row_number=int(input(\"Enter row number\"))\n",
    "column_number=int(input(\"Enter column number\"))\n",
    "\n",
    "if row_number>0 and column_number>0: \n",
    "    array1=np.ones([row_number,column_number])\n",
    "\n",
    "    for r in range(row_number):\n",
    "        for c in range(column_number):\n",
    "            if (c+1)%2==0 and (r+1)%2==0:\n",
    "                array1[r][c]=0\n",
    "\n",
    "    print(array1)\n",
    "else:\n",
    "    print(\"error!\")\n",
    "    \n",
    "\n",
    "    "
   ]
  }
 ],
 "metadata": {
  "kernelspec": {
   "display_name": "Python 3",
   "language": "python",
   "name": "python3"
  },
  "language_info": {
   "codemirror_mode": {
    "name": "ipython",
    "version": 3
   },
   "file_extension": ".py",
   "mimetype": "text/x-python",
   "name": "python",
   "nbconvert_exporter": "python",
   "pygments_lexer": "ipython3",
   "version": "3.7.6"
  }
 },
 "nbformat": 4,
 "nbformat_minor": 4
}
