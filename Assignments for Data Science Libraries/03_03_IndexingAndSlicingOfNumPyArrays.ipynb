{
 "cells": [
  {
   "cell_type": "markdown",
   "metadata": {},
   "source": [
    "# <font color=blue>Assignments for \"Indexing and Slicing of NumPy Arrays\"</font>"
   ]
  },
  {
   "cell_type": "markdown",
   "metadata": {},
   "source": [
    "For the assignment, you are going to use [Earthquakes](https://www.kaggle.com/kmlyldrn/earthquakes/download/izOLQTcLOKRObsmtrLQO%2Fversions%2FPznRtsl5ks4QmYg3QZhQ%2Ffiles%2FEarthquakes.csv?datasetVersionNumber=2) dataset."
   ]
  },
  {
   "cell_type": "markdown",
   "metadata": {},
   "source": [
    "1. Load the Earthquakes dataset. Export the dataset to an array as you covered in the previous lesson."
   ]
  },
  {
   "cell_type": "code",
   "execution_count": 5,
   "metadata": {},
   "outputs": [
    {
     "name": "stdout",
     "output_type": "stream",
     "text": [
      "[[0.000e+00 0.000e+00 0.000e+00 ... 4.000e+00 7.000e+00 0.000e+00]\n",
      " [1.000e+00 0.000e+00 0.000e+00 ... 4.100e+00 7.000e+00 0.000e+00]\n",
      " [2.000e+00 0.000e+00 0.000e+00 ... 4.400e+00 7.000e+00 0.000e+00]\n",
      " ...\n",
      " [6.571e+03 4.000e+00 0.000e+00 ... 4.800e+00 2.000e+00 0.000e+00]\n",
      " [6.572e+03 3.000e+00 0.000e+00 ... 5.200e+00 2.000e+00 0.000e+00]\n",
      " [6.573e+03 2.000e+00 0.000e+00 ... 4.400e+00 2.000e+00 0.000e+00]]\n"
     ]
    }
   ],
   "source": [
    "import numpy as np\n",
    "\n",
    "data=np.loadtxt(\"Earthquakes.csv\",delimiter=\",\")\n",
    "\n",
    "print(data)"
   ]
  },
  {
   "cell_type": "markdown",
   "metadata": {},
   "source": [
    "2. Slice first 20 rows and column numbers 3, 5, 6, 7, 12. Then, assign the array you sliced to a variable."
   ]
  },
  {
   "cell_type": "code",
   "execution_count": 6,
   "metadata": {},
   "outputs": [
    {
     "name": "stdout",
     "output_type": "stream",
     "text": [
      "[[ 0.     36.8578 16.97    4.    ]\n",
      " [ 0.     37.4341  7.02    4.1   ]\n",
      " [ 0.     37.6878 10.27    4.4   ]\n",
      " [ 0.     37.2003 78.07    4.    ]\n",
      " [ 0.     35.6846 42.77    4.5   ]\n",
      " [ 0.     36.4171 14.86    4.1   ]\n",
      " [ 0.     36.0535 36.68    5.2   ]\n",
      " [ 0.     37.1958 50.33    4.8   ]\n",
      " [ 0.     36.9653  6.93    4.3   ]\n",
      " [ 0.     38.893  11.62    4.2   ]\n",
      " [ 0.     37.3773 10.53    4.8   ]\n",
      " [ 0.     35.8861 28.49    4.9   ]\n",
      " [ 0.     37.4635 15.29    4.3   ]\n",
      " [ 0.     37.0201 10.      4.1   ]\n",
      " [ 0.     37.6546  4.5     4.5   ]\n",
      " [ 0.     37.5318 17.58    4.6   ]\n",
      " [ 0.     39.0388  7.52    4.5   ]\n",
      " [ 0.     38.357  10.05    4.1   ]\n",
      " [ 0.     35.7018  6.25    4.1   ]\n",
      " [ 0.     37.6883 10.63    4.1   ]]\n"
     ]
    }
   ],
   "source": [
    "data1= data[0:20,[3,5,7,12]]\n",
    "\n",
    "print(data1)\n"
   ]
  },
  {
   "cell_type": "markdown",
   "metadata": {},
   "source": [
    "3. Display the row numbers where last values are equal to 4.5 or higher."
   ]
  },
  {
   "cell_type": "code",
   "execution_count": 12,
   "metadata": {},
   "outputs": [
    {
     "name": "stdout",
     "output_type": "stream",
     "text": [
      "(array([ 4,  6,  7, 10, 11, 14, 15, 16], dtype=int64),)\n"
     ]
    }
   ],
   "source": [
    "data3= np.where(data1[:,3]>=4.5) # get last cells from all rows and check \n",
    "print(data3)"
   ]
  },
  {
   "cell_type": "markdown",
   "metadata": {},
   "source": [
    "4. Assign 1 to first row."
   ]
  },
  {
   "cell_type": "code",
   "execution_count": 13,
   "metadata": {},
   "outputs": [
    {
     "name": "stdout",
     "output_type": "stream",
     "text": [
      "[[ 1.      1.      1.      1.    ]\n",
      " [ 0.     37.4341  7.02    4.1   ]\n",
      " [ 0.     37.6878 10.27    4.4   ]\n",
      " [ 0.     37.2003 78.07    4.    ]\n",
      " [ 0.     35.6846 42.77    4.5   ]\n",
      " [ 0.     36.4171 14.86    4.1   ]\n",
      " [ 0.     36.0535 36.68    5.2   ]\n",
      " [ 0.     37.1958 50.33    4.8   ]\n",
      " [ 0.     36.9653  6.93    4.3   ]\n",
      " [ 0.     38.893  11.62    4.2   ]\n",
      " [ 0.     37.3773 10.53    4.8   ]\n",
      " [ 0.     35.8861 28.49    4.9   ]\n",
      " [ 0.     37.4635 15.29    4.3   ]\n",
      " [ 0.     37.0201 10.      4.1   ]\n",
      " [ 0.     37.6546  4.5     4.5   ]\n",
      " [ 0.     37.5318 17.58    4.6   ]\n",
      " [ 0.     39.0388  7.52    4.5   ]\n",
      " [ 0.     38.357  10.05    4.1   ]\n",
      " [ 0.     35.7018  6.25    4.1   ]\n",
      " [ 0.     37.6883 10.63    4.1   ]]\n"
     ]
    }
   ],
   "source": [
    "data1[0]=1\n",
    "print(data1)"
   ]
  },
  {
   "cell_type": "markdown",
   "metadata": {},
   "source": [
    "5. Save the final state of the array to disk. You are going to use this in the next assignment."
   ]
  },
  {
   "cell_type": "code",
   "execution_count": 16,
   "metadata": {},
   "outputs": [],
   "source": [
    "np.save(\"data1.npy\",data1)\n"
   ]
  }
 ],
 "metadata": {
  "kernelspec": {
   "display_name": "Python 3",
   "language": "python",
   "name": "python3"
  },
  "language_info": {
   "codemirror_mode": {
    "name": "ipython",
    "version": 3
   },
   "file_extension": ".py",
   "mimetype": "text/x-python",
   "name": "python",
   "nbconvert_exporter": "python",
   "pygments_lexer": "ipython3",
   "version": "3.7.6"
  }
 },
 "nbformat": 4,
 "nbformat_minor": 4
}
